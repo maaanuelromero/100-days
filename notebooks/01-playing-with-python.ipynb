{
 "cells": [
  {
   "cell_type": "markdown",
   "id": "70b9bd07",
   "metadata": {},
   "source": [
    "# Playing with Python\n",
    "\n",
    "Nothing special just import some datasets from Kaggle and try to find out some insights\n",
    "\n"
   ]
  },
  {
   "cell_type": "markdown",
   "id": "6de2f978",
   "metadata": {},
   "source": [
    "## Importing the data\n",
    "\n",
    "I downloaded it from here: https://www.kaggle.com/datasets/braniac2000/retail-dataset"
   ]
  },
  {
   "cell_type": "code",
   "execution_count": null,
   "id": "d2f1e1a0",
   "metadata": {},
   "outputs": [],
   "source": [
    "from pathlib import Path\n",
    "\n",
    "import matplotlib.pyplot as plt\n",
    "import numpy as np\n",
    "import pandas as pd\n"
   ]
  },
  {
   "cell_type": "code",
   "execution_count": null,
   "id": "1b390702",
   "metadata": {},
   "outputs": [],
   "source": [
    "# Use this instead of the full path, so it can work on both Windows and Unix Systems\n",
    "\n",
    "path = Path('../data/raw/Capstone1C_EuroMart Stores-1.xlsx')\n"
   ]
  },
  {
   "cell_type": "code",
   "execution_count": null,
   "id": "c44a17ea",
   "metadata": {},
   "outputs": [],
   "source": [
    "df = pd.read_excel(path, sheet_name='Order Data')\n"
   ]
  },
  {
   "cell_type": "code",
   "execution_count": null,
   "id": "4bb96c7e",
   "metadata": {
    "scrolled": true
   },
   "outputs": [],
   "source": [
    "df.sample(5)\n"
   ]
  },
  {
   "cell_type": "code",
   "execution_count": null,
   "id": "223da900",
   "metadata": {
    "scrolled": true
   },
   "outputs": [],
   "source": [
    "df.shape\n"
   ]
  },
  {
   "cell_type": "markdown",
   "id": "52fb8fdb",
   "metadata": {},
   "source": [
    "## Plotting some viz\n",
    "\n",
    "Create a time series of the data, with the avg sales"
   ]
  },
  {
   "cell_type": "code",
   "execution_count": null,
   "id": "a9286177",
   "metadata": {},
   "outputs": [],
   "source": [
    "import seaborn as sns\n"
   ]
  },
  {
   "cell_type": "code",
   "execution_count": null,
   "id": "6a9ce742",
   "metadata": {},
   "outputs": [],
   "source": [
    "df[['Order Date']].\n"
   ]
  },
  {
   "cell_type": "code",
   "execution_count": null,
   "id": "5dba4eab",
   "metadata": {},
   "outputs": [],
   "source": []
  }
 ],
 "metadata": {
  "kernelspec": {
   "display_name": "Python 3 (ipykernel)",
   "language": "python",
   "name": "python3"
  },
  "language_info": {
   "codemirror_mode": {
    "name": "ipython",
    "version": 3
   },
   "file_extension": ".py",
   "mimetype": "text/x-python",
   "name": "python",
   "nbconvert_exporter": "python",
   "pygments_lexer": "ipython3",
   "version": "3.8.8"
  }
 },
 "nbformat": 4,
 "nbformat_minor": 5
}
