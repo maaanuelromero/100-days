{
 "cells": [
  {
   "cell_type": "markdown",
   "id": "10581d14",
   "metadata": {},
   "source": [
    "# Plotting some images from the Bishop ML Book\n",
    "\n",
    "Here I will try to plot what i like at most"
   ]
  },
  {
   "cell_type": "markdown",
   "id": "1b637f93",
   "metadata": {},
   "source": [
    "## The Gaussian Distribution\n",
    "\n",
    "It goes $N(x|\\mu,\\sigma^2)=\\frac{1}{(2\\pi\\sigma^2)^1/2} exp\\{-\\frac{1}{2\\sigma^2}(x-\\mu)^2\\}$\n"
   ]
  },
  {
   "cell_type": "code",
   "execution_count": 1,
   "id": "c6eb397a",
   "metadata": {},
   "outputs": [],
   "source": [
    "import numpy as np\n",
    "import matplotlib.pyplot as plt"
   ]
  },
  {
   "cell_type": "code",
   "execution_count": 2,
   "id": "75a5656f",
   "metadata": {},
   "outputs": [],
   "source": [
    "x = np.linspace(-3,3,1000)"
   ]
  },
  {
   "cell_type": "code",
   "execution_count": 8,
   "id": "988d2ac4",
   "metadata": {},
   "outputs": [],
   "source": [
    "MU = 0\n",
    "SIGMA = 1"
   ]
  },
  {
   "cell_type": "code",
   "execution_count": 9,
   "id": "1ad0c401",
   "metadata": {},
   "outputs": [],
   "source": [
    "f = lambda x: (1/((2*np.pi*SIGMA**2)**1/2)) * np.exp(-(1/2*SIGMA**2)*(x-MU)**2)"
   ]
  },
  {
   "cell_type": "code",
   "execution_count": 12,
   "id": "66a96351",
   "metadata": {},
   "outputs": [
    {
     "data": {
      "text/plain": [
       "[<matplotlib.lines.Line2D at 0x7fe03b8e20d0>]"
      ]
     },
     "execution_count": 12,
     "metadata": {},
     "output_type": "execute_result"
    },
    {
     "data": {
      "image/png": "[encoded data removed]",
      "text/plain": [
       "<Figure size 432x288 with 1 Axes>"
      ]
     },
     "metadata": {
      "needs_background": "light"
     },
     "output_type": "display_data"
    }
   ],
   "source": [
    "plt.grid()\n",
    "plt.plot(x,f(x),'r')"
   ]
  },
  {
   "cell_type": "code",
   "execution_count": null,
   "id": "60476ba3",
   "metadata": {},
   "outputs": [],
   "source": []
  }
 ],
 "metadata": {
  "kernelspec": {
   "display_name": "Python 3 (ipykernel)",
   "language": "python",
   "name": "python3"
  },
  "language_info": {
   "codemirror_mode": {
    "name": "ipython",
    "version": 3
   },
   "file_extension": ".py",
   "mimetype": "text/x-python",
   "name": "python",
   "nbconvert_exporter": "python",
   "pygments_lexer": "ipython3",
   "version": "3.8.8"
  }
 },
 "nbformat": 4,
 "nbformat_minor": 5
}
