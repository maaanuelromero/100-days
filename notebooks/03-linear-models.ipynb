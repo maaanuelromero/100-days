{
 "cells": [
  {
   "cell_type": "markdown",
   "id": "f37b5fe1",
   "metadata": {},
   "source": [
    "# Linear Models for Regression\n",
    "\n",
    "Things that I consider important from the Bishop´s Book"
   ]
  },
  {
   "cell_type": "code",
   "execution_count": 3,
   "id": "b530dfff",
   "metadata": {},
   "outputs": [],
   "source": [
    "import pandas as pd\n",
    "from sklearn.linear_model import LinearRegression"
   ]
  },
  {
   "cell_type": "code",
   "execution_count": 5,
   "id": "36f43a57",
   "metadata": {},
   "outputs": [],
   "source": [
    "import pathlib\n",
    "path = '../data/raw/Capstone1C_EuroMart Stores-1.xlsx'"
   ]
  },
  {
   "cell_type": "code",
   "execution_count": 6,
   "id": "18033273",
   "metadata": {},
   "outputs": [],
   "source": [
    "df = pd.read_excel(path,sheet_name='Order Data')"
   ]
  },
  {
   "cell_type": "code",
   "execution_count": 8,
   "id": "dc4f3c19",
   "metadata": {},
   "outputs": [],
   "source": [
    "from sklearn.model_selection import train_test_split"
   ]
  },
  {
   "cell_type": "code",
   "execution_count": 9,
   "id": "dc455b16",
   "metadata": {
    "scrolled": true
   },
   "outputs": [
    {
     "data": {
      "text/html": [
       "<div>\n",
       "<style scoped>\n",
       "    .dataframe tbody tr th:only-of-type {\n",
       "        vertical-align: middle;\n",
       "    }\n",
       "\n",
       "    .dataframe tbody tr th {\n",
       "        vertical-align: top;\n",
       "    }\n",
       "\n",
       "    .dataframe thead th {\n",
       "        text-align: right;\n",
       "    }\n",
       "</style>\n",
       "<table border=\"1\" class=\"dataframe\">\n",
       "  <thead>\n",
       "    <tr style=\"text-align: right;\">\n",
       "      <th></th>\n",
       "      <th>Order ID</th>\n",
       "      <th>Order Date</th>\n",
       "      <th>Customer Name</th>\n",
       "      <th>Country</th>\n",
       "      <th>State</th>\n",
       "      <th>City</th>\n",
       "      <th>Region</th>\n",
       "      <th>Segment</th>\n",
       "      <th>Ship Mode</th>\n",
       "      <th>Category</th>\n",
       "      <th>Sub-Category</th>\n",
       "      <th>Product Name</th>\n",
       "      <th>Discount</th>\n",
       "      <th>Sales</th>\n",
       "      <th>Profit</th>\n",
       "      <th>Quantity</th>\n",
       "      <th>Feedback?</th>\n",
       "    </tr>\n",
       "  </thead>\n",
       "  <tbody>\n",
       "    <tr>\n",
       "      <th>3581</th>\n",
       "      <td>AZ-2013-5594032</td>\n",
       "      <td>2013-02-25</td>\n",
       "      <td>Mark Burkett</td>\n",
       "      <td>United Kingdom</td>\n",
       "      <td>Scotland</td>\n",
       "      <td>Edinburgh</td>\n",
       "      <td>North</td>\n",
       "      <td>Home Office</td>\n",
       "      <td>Economy</td>\n",
       "      <td>Technology</td>\n",
       "      <td>Accessories</td>\n",
       "      <td>Enermax Mouse, Bluetooth</td>\n",
       "      <td>0.0</td>\n",
       "      <td>161</td>\n",
       "      <td>19</td>\n",
       "      <td>4</td>\n",
       "      <td>True</td>\n",
       "    </tr>\n",
       "    <tr>\n",
       "      <th>2280</th>\n",
       "      <td>BN-2012-8602760</td>\n",
       "      <td>2012-07-25</td>\n",
       "      <td>Mia McLean</td>\n",
       "      <td>Sweden</td>\n",
       "      <td>Stockholm</td>\n",
       "      <td>Stockholm</td>\n",
       "      <td>North</td>\n",
       "      <td>Corporate</td>\n",
       "      <td>Economy</td>\n",
       "      <td>Office Supplies</td>\n",
       "      <td>Art</td>\n",
       "      <td>BIC Pens, Easy-Erase</td>\n",
       "      <td>0.5</td>\n",
       "      <td>22</td>\n",
       "      <td>-12</td>\n",
       "      <td>3</td>\n",
       "      <td>False</td>\n",
       "    </tr>\n",
       "    <tr>\n",
       "      <th>999</th>\n",
       "      <td>AZ-2011-3858939</td>\n",
       "      <td>2011-09-29</td>\n",
       "      <td>Julian Mack</td>\n",
       "      <td>France</td>\n",
       "      <td>Ile-de-France</td>\n",
       "      <td>Courbevoie</td>\n",
       "      <td>Central</td>\n",
       "      <td>Consumer</td>\n",
       "      <td>Economy</td>\n",
       "      <td>Office Supplies</td>\n",
       "      <td>Labels</td>\n",
       "      <td>Smead Legal Exhibit Labels, Adjustable</td>\n",
       "      <td>0.0</td>\n",
       "      <td>36</td>\n",
       "      <td>5</td>\n",
       "      <td>4</td>\n",
       "      <td>False</td>\n",
       "    </tr>\n",
       "    <tr>\n",
       "      <th>6719</th>\n",
       "      <td>AZ-2014-9026521</td>\n",
       "      <td>2014-08-12</td>\n",
       "      <td>Madison Holloway</td>\n",
       "      <td>Germany</td>\n",
       "      <td>North Rhine-Westphalia</td>\n",
       "      <td>Bottrop</td>\n",
       "      <td>Central</td>\n",
       "      <td>Corporate</td>\n",
       "      <td>Economy</td>\n",
       "      <td>Furniture</td>\n",
       "      <td>Furnishings</td>\n",
       "      <td>Tenex Light Bulb, Duo Pack</td>\n",
       "      <td>0.0</td>\n",
       "      <td>57</td>\n",
       "      <td>7</td>\n",
       "      <td>3</td>\n",
       "      <td>True</td>\n",
       "    </tr>\n",
       "    <tr>\n",
       "      <th>1173</th>\n",
       "      <td>BN-2011-6464780</td>\n",
       "      <td>2011-11-14</td>\n",
       "      <td>Nathan Iqbal</td>\n",
       "      <td>United Kingdom</td>\n",
       "      <td>England</td>\n",
       "      <td>Bolton</td>\n",
       "      <td>North</td>\n",
       "      <td>Consumer</td>\n",
       "      <td>Economy</td>\n",
       "      <td>Office Supplies</td>\n",
       "      <td>Binders</td>\n",
       "      <td>Cardinal Index Tab, Clear</td>\n",
       "      <td>0.0</td>\n",
       "      <td>7</td>\n",
       "      <td>3</td>\n",
       "      <td>1</td>\n",
       "      <td>True</td>\n",
       "    </tr>\n",
       "  </tbody>\n",
       "</table>\n",
       "</div>"
      ],
      "text/plain": [
       "             Order ID Order Date     Customer Name         Country  \\\n",
       "3581  AZ-2013-5594032 2013-02-25      Mark Burkett  United Kingdom   \n",
       "2280  BN-2012-8602760 2012-07-25        Mia McLean          Sweden   \n",
       "999   AZ-2011-3858939 2011-09-29       Julian Mack          France   \n",
       "6719  AZ-2014-9026521 2014-08-12  Madison Holloway         Germany   \n",
       "1173  BN-2011-6464780 2011-11-14      Nathan Iqbal  United Kingdom   \n",
       "\n",
       "                       State        City   Region      Segment Ship Mode  \\\n",
       "3581                Scotland   Edinburgh    North  Home Office   Economy   \n",
       "2280               Stockholm   Stockholm    North    Corporate   Economy   \n",
       "999            Ile-de-France  Courbevoie  Central     Consumer   Economy   \n",
       "6719  North Rhine-Westphalia     Bottrop  Central    Corporate   Economy   \n",
       "1173                 England      Bolton    North     Consumer   Economy   \n",
       "\n",
       "             Category Sub-Category                            Product Name  \\\n",
       "3581       Technology  Accessories                Enermax Mouse, Bluetooth   \n",
       "2280  Office Supplies          Art                    BIC Pens, Easy-Erase   \n",
       "999   Office Supplies       Labels  Smead Legal Exhibit Labels, Adjustable   \n",
       "6719        Furniture  Furnishings              Tenex Light Bulb, Duo Pack   \n",
       "1173  Office Supplies      Binders               Cardinal Index Tab, Clear   \n",
       "\n",
       "      Discount  Sales  Profit  Quantity  Feedback?  \n",
       "3581       0.0    161      19         4       True  \n",
       "2280       0.5     22     -12         3      False  \n",
       "999        0.0     36       5         4      False  \n",
       "6719       0.0     57       7         3       True  \n",
       "1173       0.0      7       3         1       True  "
      ]
     },
     "execution_count": 9,
     "metadata": {},
     "output_type": "execute_result"
    }
   ],
   "source": [
    "df.sample(5)"
   ]
  },
  {
   "cell_type": "code",
   "execution_count": 16,
   "id": "8c029042",
   "metadata": {},
   "outputs": [
    {
     "data": {
      "text/plain": [
       "Index(['Discount', 'Sales', 'Profit'], dtype='object')"
      ]
     },
     "execution_count": 16,
     "metadata": {},
     "output_type": "execute_result"
    }
   ],
   "source": [
    "df.columns[12:15]"
   ]
  },
  {
   "cell_type": "code",
   "execution_count": 18,
   "id": "026775dd",
   "metadata": {},
   "outputs": [],
   "source": [
    "X = df[df.columns[12:15]]"
   ]
  },
  {
   "cell_type": "code",
   "execution_count": 26,
   "id": "f26060d4",
   "metadata": {},
   "outputs": [],
   "source": [
    "y = df['Profit']"
   ]
  },
  {
   "cell_type": "code",
   "execution_count": 27,
   "id": "00182754",
   "metadata": {},
   "outputs": [],
   "source": [
    "X_train, X_test, y_train, y_test = train_test_split(X,y)"
   ]
  },
  {
   "cell_type": "code",
   "execution_count": 21,
   "id": "5c4de100",
   "metadata": {},
   "outputs": [],
   "source": [
    "model = LinearRegression()"
   ]
  },
  {
   "cell_type": "code",
   "execution_count": 28,
   "id": "4998a63f",
   "metadata": {},
   "outputs": [
    {
     "data": {
      "text/plain": [
       "LinearRegression()"
      ]
     },
     "execution_count": 28,
     "metadata": {},
     "output_type": "execute_result"
    }
   ],
   "source": [
    "model.fit(X_train,y_train)"
   ]
  },
  {
   "cell_type": "code",
   "execution_count": 30,
   "id": "000e18a5",
   "metadata": {},
   "outputs": [
    {
     "data": {
      "text/plain": [
       "1.0"
      ]
     },
     "execution_count": 30,
     "metadata": {},
     "output_type": "execute_result"
    }
   ],
   "source": [
    "model.score(X_test,y_test)"
   ]
  },
  {
   "cell_type": "code",
   "execution_count": null,
   "id": "1ffe2c05",
   "metadata": {},
   "outputs": [],
   "source": []
  }
 ],
 "metadata": {
  "kernelspec": {
   "display_name": "Python 3 (ipykernel)",
   "language": "python",
   "name": "python3"
  },
  "language_info": {
   "codemirror_mode": {
    "name": "ipython",
    "version": 3
   },
   "file_extension": ".py",
   "mimetype": "text/x-python",
   "name": "python",
   "nbconvert_exporter": "python",
   "pygments_lexer": "ipython3",
   "version": "3.8.8"
  }
 },
 "nbformat": 4,
 "nbformat_minor": 5
}
