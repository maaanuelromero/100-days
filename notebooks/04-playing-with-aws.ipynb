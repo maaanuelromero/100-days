{
 "cells": [
  {
   "cell_type": "markdown",
   "id": "9c4caf21",
   "metadata": {},
   "source": [
    "# Creando una Base de Datos con AWS \n",
    "\n",
    "Cree una DB postgres y ahora me conectare, pude haber puesto como tal la contraseña en texto plano pero dado que es notebook publico usare Secrets Manager"
   ]
  },
  {
   "cell_type": "markdown",
   "id": "f3818761",
   "metadata": {},
   "source": [
    "## Obteniendo las credenciales"
   ]
  },
  {
   "cell_type": "code",
   "execution_count": 1,
   "id": "7e4019a4",
   "metadata": {},
   "outputs": [],
   "source": [
    "import boto3"
   ]
  },
  {
   "cell_type": "code",
   "execution_count": 2,
   "id": "ceef6c28",
   "metadata": {},
   "outputs": [],
   "source": [
    "# This is where is the Secret located\n",
    "secret_name = \"postgres_password\"\n",
    "region_name = \"us-east-1\"\n",
    "# Login with AWS\n",
    "session = boto3.session.Session()\n",
    "client = session.client(\n",
    "        service_name='secretsmanager',\n",
    "        region_name=region_name\n",
    "    )\n",
    "# Obtaining the Secret\n",
    "get_secret_value_response = client.get_secret_value(\n",
    "            SecretId=secret_name\n",
    "        )"
   ]
  },
  {
   "cell_type": "markdown",
   "id": "73f69c4e",
   "metadata": {},
   "source": [
    "## Conectandose a la DB"
   ]
  },
  {
   "cell_type": "code",
   "execution_count": 3,
   "id": "c6aaa927",
   "metadata": {},
   "outputs": [],
   "source": [
    "import psycopg2\n",
    "import json"
   ]
  },
  {
   "cell_type": "code",
   "execution_count": 4,
   "id": "2f6757cd",
   "metadata": {},
   "outputs": [],
   "source": [
    "args = json.loads(get_secret_value_response['SecretString'])"
   ]
  },
  {
   "cell_type": "code",
   "execution_count": 5,
   "id": "d30e321b",
   "metadata": {},
   "outputs": [],
   "source": [
    "conn = psycopg2.connect(user = args['username'],\n",
    "                       password = args['password'],\n",
    "                       host = args['host'],\n",
    "                       database='transporte')"
   ]
  },
  {
   "cell_type": "code",
   "execution_count": 6,
   "id": "e51b66e9",
   "metadata": {},
   "outputs": [],
   "source": [
    "c = conn.cursor()"
   ]
  },
  {
   "cell_type": "code",
   "execution_count": 7,
   "id": "7d2e0a7c",
   "metadata": {},
   "outputs": [],
   "source": [
    "c.execute('SELECT * FROM tren WHERE capacidad > 900')"
   ]
  },
  {
   "cell_type": "code",
   "execution_count": 8,
   "id": "aa25249a",
   "metadata": {
    "scrolled": false
   },
   "outputs": [
    {
     "name": "stdout",
     "output_type": "stream",
     "text": [
      "(5, 'Roadrunner', 972)\n",
      "(29, 'Pajero', 979)\n",
      "(35, 'MR2', 925)\n",
      "(36, 'Montero Sport', 929)\n",
      "(69, '1500', 976)\n",
      "(73, 'SX4', 955)\n",
      "(98, 'Bronco', 991)\n",
      "(120, 'S-Type', 932)\n",
      "(129, 'Equinox', 923)\n",
      "(131, 'G5', 964)\n",
      "(132, 'Nitro', 941)\n",
      "(137, 'Electra', 920)\n",
      "(148, 'Grand Vitara', 919)\n",
      "(160, 'Caprice', 963)\n",
      "(165, 'Sorento', 919)\n",
      "(173, 'F350', 964)\n",
      "(183, 'M', 995)\n",
      "(190, 'Sierra 1500', 933)\n",
      "(193, 'Baja', 915)\n",
      "(195, 'Phantom', 948)\n",
      "(196, 'Taurus', 943)\n",
      "(203, 'Rockette', 904)\n",
      "(209, 'Paseo', 963)\n",
      "(214, 'Pathfinder', 921)\n",
      "(215, 'G55 AMG', 945)\n",
      "(240, 'Highlander', 987)\n",
      "(244, '3 Series', 985)\n",
      "(246, 'X-Type', 999)\n",
      "(249, 'Explorer', 1000)\n",
      "(258, '62', 974)\n",
      "(268, '3500', 978)\n",
      "(270, 'Golf', 952)\n",
      "(279, 'Venza', 997)\n",
      "(283, 'Eclipse', 921)\n",
      "(286, 'Bronco', 953)\n",
      "(289, 'Focus', 943)\n",
      "(291, 'Flex', 981)\n",
      "(292, 'E250', 914)\n",
      "(302, 'LS', 956)\n",
      "(321, 'Fusion', 909)\n",
      "(322, 'Corvette', 993)\n",
      "(326, 'Achieva', 986)\n",
      "(341, 'S60', 945)\n",
      "(342, 'Sequoia', 920)\n",
      "(344, 'Century', 987)\n",
      "(357, 'Accent', 929)\n",
      "(368, 'Accord', 919)\n",
      "(378, 'Ram 3500', 969)\n",
      "(398, 'Focus', 971)\n",
      "(408, 'R-Class', 933)\n",
      "(426, 'Spyder', 922)\n",
      "(428, 'Diablo', 991)\n",
      "(443, 'E-Class', 906)\n",
      "(445, 'Fit', 931)\n",
      "(449, 'Sable', 992)\n",
      "(452, 'Vibe', 999)\n",
      "(466, 'RX-7', 981)\n",
      "(482, 'Continental', 905)\n",
      "(502, 'Suburban 1500', 968)\n",
      "(506, 'Grand Marquis', 942)\n",
      "(508, '9000', 931)\n",
      "(509, '5000S', 956)\n",
      "(540, 'Skyhawk', 946)\n",
      "(547, 'Highlander', 953)\n",
      "(558, 'Cobalt SS', 990)\n",
      "(566, 'Turbo Firefly', 981)\n",
      "(568, 'Neon', 902)\n",
      "(573, 'Pacifica', 942)\n",
      "(579, 'Regal', 952)\n",
      "(588, 'Fiesta', 952)\n",
      "(596, 'NSX', 930)\n",
      "(601, 'G', 957)\n",
      "(614, 'X5', 919)\n",
      "(615, 'Altima', 932)\n",
      "(626, 'MPV', 954)\n",
      "(640, 'Matrix', 932)\n",
      "(643, 'W201', 991)\n",
      "(652, 'Prizm', 942)\n",
      "(654, 'Ram 1500 Club', 952)\n",
      "(666, 'Prius', 991)\n",
      "(667, 'S40', 960)\n",
      "(679, 'Sable', 941)\n",
      "(686, 'Colt', 909)\n",
      "(690, 'Fox', 991)\n",
      "(701, 'Sonata', 963)\n",
      "(710, 'XK Series', 945)\n",
      "(713, '9000', 1000)\n",
      "(721, 'Grand Voyager', 997)\n",
      "(722, 'Tiburon', 967)\n",
      "(727, 'Grand Prix', 970)\n",
      "(746, 'Pathfinder', 946)\n",
      "(759, 'Skylark', 929)\n",
      "(760, 'Summit', 963)\n",
      "(762, 'A6', 999)\n",
      "(774, 'LS', 912)\n",
      "(788, 'Alero', 914)\n",
      "(795, 'Yukon XL 2500', 940)\n",
      "(800, '200SX', 929)\n",
      "(816, 'Passat', 961)\n",
      "(818, 'RX-7', 903)\n",
      "(836, 'Mighty Max', 931)\n",
      "(838, 'Stratus', 925)\n",
      "(847, 'Cayman', 1000)\n",
      "(849, 'Accord', 958)\n",
      "(853, 'GTI', 922)\n",
      "(864, 'LeMans', 945)\n",
      "(873, 'XC90', 944)\n",
      "(874, 'F250', 959)\n",
      "(886, 'Accent', 998)\n",
      "(905, 'Golf', 902)\n",
      "(907, '9-7X', 940)\n",
      "(910, 'RX Hybrid', 980)\n",
      "(931, 'S60', 911)\n",
      "(939, 'TT', 979)\n",
      "(943, 'Sentra', 951)\n",
      "(950, 'DeVille', 986)\n",
      "(952, 'W201', 904)\n",
      "(964, 'SL-Class', 907)\n",
      "(969, 'F250', 980)\n",
      "(978, 'Amigo', 989)\n",
      "(984, 'Silverado 1500', 968)\n",
      "(986, 'Matrix', 984)\n"
     ]
    }
   ],
   "source": [
    "for i in c.fetchall():\n",
    "    print(i)"
   ]
  },
  {
   "cell_type": "markdown",
   "id": "eb167303",
   "metadata": {},
   "source": [
    "## Añadir nuevos modelos"
   ]
  },
  {
   "cell_type": "code",
   "execution_count": 9,
   "id": "0cacc9f2",
   "metadata": {
    "scrolled": true
   },
   "outputs": [
    {
     "name": "stdout",
     "output_type": "stream",
     "text": [
      "Nombre del carro: Polo\n"
     ]
    }
   ],
   "source": [
    "nuevo_modelo = input(\"Nombre del carro: \")"
   ]
  },
  {
   "cell_type": "code",
   "execution_count": 10,
   "id": "64a8237e",
   "metadata": {},
   "outputs": [
    {
     "name": "stdout",
     "output_type": "stream",
     "text": [
      "Capacidad: 400\n"
     ]
    }
   ],
   "source": [
    "capacidad = int(input(\"Capacidad: \"))"
   ]
  },
  {
   "cell_type": "code",
   "execution_count": 11,
   "id": "fa1a3b38",
   "metadata": {},
   "outputs": [],
   "source": [
    "statement = f\"INSERT INTO tren(modelo, capacidad)VALUES ('{nuevo_modelo}', {capacidad})\""
   ]
  },
  {
   "cell_type": "code",
   "execution_count": 12,
   "id": "197b924d",
   "metadata": {},
   "outputs": [],
   "source": [
    "c.execute(statement)"
   ]
  },
  {
   "cell_type": "code",
   "execution_count": 13,
   "id": "297fd5bf",
   "metadata": {},
   "outputs": [],
   "source": [
    "conn.commit()"
   ]
  },
  {
   "cell_type": "markdown",
   "id": "a1ffe8ba",
   "metadata": {},
   "source": [
    "### Comprobamos que funciona"
   ]
  },
  {
   "cell_type": "code",
   "execution_count": 14,
   "id": "df7c06b6",
   "metadata": {},
   "outputs": [],
   "source": [
    "c.execute(f'SELECT * FROM tren WHERE capacidad = {capacidad}')"
   ]
  },
  {
   "cell_type": "code",
   "execution_count": 15,
   "id": "5be033d2",
   "metadata": {},
   "outputs": [
    {
     "data": {
      "text/plain": [
       "[(892, 'Bonneville', 400), (1004, 'Polo', 400)]"
      ]
     },
     "execution_count": 15,
     "metadata": {},
     "output_type": "execute_result"
    }
   ],
   "source": [
    "c.fetchall()"
   ]
  },
  {
   "cell_type": "code",
   "execution_count": null,
   "id": "ac109a0c",
   "metadata": {},
   "outputs": [],
   "source": []
  }
 ],
 "metadata": {
  "kernelspec": {
   "display_name": "Python 3 (ipykernel)",
   "language": "python",
   "name": "python3"
  },
  "language_info": {
   "codemirror_mode": {
    "name": "ipython",
    "version": 3
   },
   "file_extension": ".py",
   "mimetype": "text/x-python",
   "name": "python",
   "nbconvert_exporter": "python",
   "pygments_lexer": "ipython3",
   "version": "3.8.8"
  }
 },
 "nbformat": 4,
 "nbformat_minor": 5
}
