{
 "cells": [
  {
   "cell_type": "markdown",
   "id": "9c4caf21",
   "metadata": {},
   "source": [
    "# Creando una Base de Datos con AWS \n",
    "\n",
    "Cree una DB postgres y ahora me conectare, pude haber puesto como tal la contraseña en texto plano pero dado que es notebook publico usare Secrets Manager"
   ]
  },
  {
   "cell_type": "markdown",
   "id": "f3818761",
   "metadata": {},
   "source": [
    "## Obteniendo las credenciales"
   ]
  },
  {
   "cell_type": "code",
   "execution_count": 1,
   "id": "7e4019a4",
   "metadata": {},
   "outputs": [],
   "source": [
    "import boto3"
   ]
  },
  {
   "cell_type": "code",
   "execution_count": 2,
   "id": "ceef6c28",
   "metadata": {},
   "outputs": [],
   "source": [
    "# Here is the secret\n",
    "secret_name = \"postgres_password\"\n",
    "region_name = \"us-east-1\"\n",
    "# Login with AWS\n",
    "session = boto3.session.Session()\n",
    "client = session.client(\n",
    "        service_name='secretsmanager',\n",
    "        region_name=region_name\n",
    "    )\n",
    "# Obtaining the Secret\n",
    "get_secret_value_response = client.get_secret_value(\n",
    "            SecretId=secret_name\n",
    "        )"
   ]
  },
  {
   "cell_type": "markdown",
   "id": "73f69c4e",
   "metadata": {},
   "source": [
    "## Conectandose a la DB"
   ]
  },
  {
   "cell_type": "code",
   "execution_count": 3,
   "id": "c6aaa927",
   "metadata": {},
   "outputs": [],
   "source": [
    "import psycopg2\n",
    "import json"
   ]
  },
  {
   "cell_type": "code",
   "execution_count": 4,
   "id": "2f6757cd",
   "metadata": {},
   "outputs": [],
   "source": [
    "args = json.loads(get_secret_value_response['SecretString'])"
   ]
  },
  {
   "cell_type": "code",
   "execution_count": 5,
   "id": "d30e321b",
   "metadata": {},
   "outputs": [],
   "source": [
    "conn = psycopg2.connect(user = args['username'],\n",
    "                       password = args['password'],\n",
    "                       host = args['host'],\n",
    "                       database='transporte')"
   ]
  },
  {
   "cell_type": "code",
   "execution_count": 6,
   "id": "e51b66e9",
   "metadata": {},
   "outputs": [],
   "source": [
    "c = conn.cursor()"
   ]
  },
  {
   "cell_type": "code",
   "execution_count": 14,
   "id": "7d2e0a7c",
   "metadata": {},
   "outputs": [],
   "source": [
    "c.execute('SELECT * FROM tren WHERE capacidad < 200 ORDER BY capacidad DESC')"
   ]
  },
  {
   "cell_type": "code",
   "execution_count": 15,
   "id": "aa25249a",
   "metadata": {},
   "outputs": [
    {
     "name": "stdout",
     "output_type": "stream",
     "text": [
      "(580, 'Skylark', 199)\n",
      "(295, 'E-Class', 199)\n",
      "(748, 'Taurus X', 198)\n",
      "(698, 'NSX', 196)\n",
      "(299, 'XC60', 195)\n",
      "(49, 'TL', 195)\n",
      "(294, 'Caprice', 195)\n",
      "(965, 'E150', 194)\n",
      "(119, 'Cavalier', 194)\n",
      "(872, 'TL', 191)\n",
      "(241, 'Firebird', 189)\n",
      "(756, 'Jetta', 188)\n",
      "(267, 'Evora', 186)\n",
      "(791, 'S-Class', 186)\n",
      "(729, 'Jimmy', 185)\n",
      "(634, 'Corvette', 185)\n",
      "(835, 'GTO', 184)\n",
      "(606, 'Virage', 182)\n",
      "(809, 'Continental Flying Spur', 182)\n",
      "(518, 'Jimmy', 182)\n",
      "(381, 'Grand Caravan', 180)\n",
      "(928, 'Ram Van 2500', 178)\n",
      "(919, 'Continental GT', 178)\n",
      "(937, 'Acadia', 177)\n",
      "(906, 'RX-8', 173)\n",
      "(685, 'M-Class', 172)\n",
      "(755, 'Legacy', 171)\n",
      "(959, 'Express', 170)\n",
      "(145, 'E-Series', 169)\n",
      "(678, 'Protege', 168)\n",
      "(814, 'Biturbo', 168)\n",
      "(754, 'Esperante', 168)\n",
      "(484, 'Legend', 168)\n",
      "(264, 'Ranger', 165)\n",
      "(106, 'Tiburon', 165)\n",
      "(605, 'Sprinter', 163)\n",
      "(197, 'RAV4', 162)\n",
      "(977, 'M5', 159)\n",
      "(510, 'Avalanche 1500', 158)\n",
      "(867, 'C-Class', 158)\n",
      "(793, 'SC', 156)\n",
      "(866, 'Tredia', 152)\n",
      "(971, 'F150', 151)\n",
      "(563, 'New Beetle', 150)\n",
      "(507, 'Savana 1500', 149)\n",
      "(751, 'IS-F', 149)\n",
      "(33, 'Element', 147)\n",
      "(101, 'Ciera', 147)\n",
      "(720, 'Murciélago', 146)\n",
      "(603, 'Tundra', 139)\n",
      "(308, 'Defender', 136)\n",
      "(641, 'RAV4', 136)\n",
      "(138, 'Grand Marquis', 136)\n",
      "(532, 'M6', 134)\n",
      "(935, 'Tacoma', 134)\n",
      "(310, 'Paseo', 131)\n",
      "(1001, 'S2000', 130)\n",
      "(691, '924', 128)\n",
      "(405, 'Mazda5', 128)\n",
      "(929, 'CX-7', 127)\n",
      "(439, 'Thunderbird', 127)\n",
      "(93, 'Sephia', 124)\n",
      "(732, 'Golf', 121)\n",
      "(306, 'Sprinter 3500', 121)\n",
      "(107, 'Eurovan', 121)\n",
      "(633, 'Golf III', 120)\n",
      "(758, 'B-Series', 119)\n",
      "(604, 'Fusion', 119)\n",
      "(520, 'Golf', 118)\n",
      "(870, 'Challenger', 117)\n",
      "(692, 'Camry', 116)\n",
      "(399, '57', 114)\n",
      "(505, 'Protege', 113)\n",
      "(988, '4Runner', 111)\n",
      "(64, 'Ram 2500 Club', 109)\n",
      "(599, 'Aerio', 109)\n",
      "(396, 'XT', 108)\n",
      "(128, 'X5', 108)\n",
      "(739, 'Escape', 107)\n",
      "(699, 'Pajero', 106)\n",
      "(318, 'RX-7', 105)\n",
      "(708, 'A4', 104)\n",
      "(143, 'Econoline E150', 104)\n",
      "(550, 'Mountaineer', 102)\n",
      "(425, 'Vandura G2500', 102)\n",
      "(637, 'Camaro', 101)\n",
      "(236, 'Daewoo Lacetti', 100)\n",
      "(918, 'ES', 100)\n",
      "(1, 'Volvo 1', 100)\n"
     ]
    }
   ],
   "source": [
    "for i in c.fetchall():\n",
    "    print(i)"
   ]
  },
  {
   "cell_type": "markdown",
   "id": "eb167303",
   "metadata": {},
   "source": [
    "## Añadir nuevos modelos"
   ]
  },
  {
   "cell_type": "code",
   "execution_count": 16,
   "id": "0cacc9f2",
   "metadata": {
    "scrolled": true
   },
   "outputs": [
    {
     "name": "stdin",
     "output_type": "stream",
     "text": [
      "Nombre del carro:  Pinche SMART\n"
     ]
    }
   ],
   "source": [
    "nuevo_modelo = input(\"Nombre del carro: \")"
   ]
  },
  {
   "cell_type": "code",
   "execution_count": 17,
   "id": "64a8237e",
   "metadata": {},
   "outputs": [
    {
     "name": "stdin",
     "output_type": "stream",
     "text": [
      "Capacidad:  1600\n"
     ]
    }
   ],
   "source": [
    "capacidad = int(input(\"Capacidad: \"))"
   ]
  },
  {
   "cell_type": "code",
   "execution_count": 18,
   "id": "fa1a3b38",
   "metadata": {},
   "outputs": [],
   "source": [
    "statement = f\"INSERT INTO tren(modelo, capacidad)VALUES ('{nuevo_modelo}', {capacidad})\""
   ]
  },
  {
   "cell_type": "code",
   "execution_count": 19,
   "id": "197b924d",
   "metadata": {},
   "outputs": [],
   "source": [
    "c.execute(statement)"
   ]
  },
  {
   "cell_type": "code",
   "execution_count": 20,
   "id": "297fd5bf",
   "metadata": {},
   "outputs": [],
   "source": [
    "conn.commit()"
   ]
  },
  {
   "cell_type": "markdown",
   "id": "a1ffe8ba",
   "metadata": {},
   "source": [
    "### Comprobamos que funciona"
   ]
  },
  {
   "cell_type": "code",
   "execution_count": 22,
   "id": "df7c06b6",
   "metadata": {},
   "outputs": [],
   "source": [
    "c.execute(f'SELECT * FROM tren WHERE capacidad = {capacidad}')"
   ]
  },
  {
   "cell_type": "code",
   "execution_count": 23,
   "id": "5be033d2",
   "metadata": {},
   "outputs": [
    {
     "data": {
      "text/plain": [
       "[(1005, 'Pinche SMART', 1600)]"
      ]
     },
     "execution_count": 23,
     "metadata": {},
     "output_type": "execute_result"
    }
   ],
   "source": [
    "c.fetchall()"
   ]
  },
  {
   "cell_type": "code",
   "execution_count": null,
   "id": "ac109a0c",
   "metadata": {},
   "outputs": [],
   "source": []
  }
 ],
 "metadata": {
  "kernelspec": {
   "display_name": "Python 3 (ipykernel)",
   "language": "python",
   "name": "python3"
  },
  "language_info": {
   "codemirror_mode": {
    "name": "ipython",
    "version": 3
   },
   "file_extension": ".py",
   "mimetype": "text/x-python",
   "name": "python",
   "nbconvert_exporter": "python",
   "pygments_lexer": "ipython3",
   "version": "3.8.8"
  }
 },
 "nbformat": 4,
 "nbformat_minor": 5
}
