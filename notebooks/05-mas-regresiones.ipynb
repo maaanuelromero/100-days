{
 "cells": [
  {
   "cell_type": "markdown",
   "id": "4c512e65-36ae-4ac4-8ba0-74e9b878be67",
   "metadata": {},
   "source": [
    "\n",
    "# Regresión Lineal"
   ]
  },
  {
   "cell_type": "markdown",
   "id": "5c4e200f-c5da-4d58-96af-47a8c4b3164d",
   "metadata": {},
   "source": [
    "Tenemos que minimizar el error: \n",
    "\n",
    "$e_i=(y_i-(a+bx_i))$\n",
    "\n",
    "Teniendo la funcion: $F(a,b)=\\sum_{i=1}^{n}(y_i-(a+bx_i))^2$\n",
    "\n",
    "Derivamos $F(x)$ y la igualamos a $F'(x)=0$\n",
    "\n",
    "$\\frac{\\delta F(a,b)}{\\delta a}=0,\\frac{\\delta F(a,b)}{\\delta b}=0$\n",
    "\n",
    "Obteniendo:\n",
    "\n",
    "$\\frac{\\delta F(a,b)}{\\delta a}=\\sum_{i=1}^{n}2(y_i-(a+bx_i))(-1)=0,\\rightarrow \\sum_{i=1}^{n}y_i-a-bx_i=0,\\sum_{i=1}^{n}y_i-\\sum_{i=1}^{n}a-\\sum_{i=1}^{n}bx_i=0$\n",
    "\n",
    "$\\frac{\\delta F(a,b)}{\\delta b}=\\sum_{i=1}^{n}2(y_i-(a+bx_i))(-x_i)=0,\\rightarrow \\sum_{i=1}^{n}xy_i-ax_i-bx_i^2=0,\\sum_{i=1}^{n}x_i y_i-\\sum_{i=1}^{n}ax_i-\\sum_{i=1}^{n}bx_i^2=0$"
   ]
  },
  {
   "cell_type": "code",
   "execution_count": 1,
   "id": "8c6cd179-9457-47eb-af9c-f95e1b8a09b3",
   "metadata": {},
   "outputs": [],
   "source": [
    "import numpy as np\n",
    "import pandas as pd"
   ]
  },
  {
   "cell_type": "code",
   "execution_count": 2,
   "id": "bdc8a6a6-15ff-4a48-9861-a541711cdab1",
   "metadata": {},
   "outputs": [],
   "source": [
    "x = np.array([10,12,8,17,10,15,10])\n",
    "y = np.array([15,17,13,23,16,21,14])"
   ]
  },
  {
   "cell_type": "code",
   "execution_count": 3,
   "id": "453d1f5c-292f-46be-940b-c805cb66f21d",
   "metadata": {},
   "outputs": [],
   "source": [
    "d = {'x':x,'y':y}"
   ]
  },
  {
   "cell_type": "code",
   "execution_count": 4,
   "id": "d19e7f29-db09-49fc-a3c1-ad7bf840169f",
   "metadata": {},
   "outputs": [],
   "source": [
    "df = pd.DataFrame(columns=['x','y'],data=d,index=None)"
   ]
  },
  {
   "cell_type": "code",
   "execution_count": 5,
   "id": "e444fe37-f4a5-400f-a678-2fec23b24684",
   "metadata": {},
   "outputs": [],
   "source": [
    "import matplotlib.pyplot as plt"
   ]
  },
  {
   "cell_type": "code",
   "execution_count": 6,
   "id": "360c62df-6a91-453f-80bb-1291ee55b0c6",
   "metadata": {},
   "outputs": [
    {
     "data": {
      "text/plain": [
       "<matplotlib.collections.PathCollection at 0x7f9d950e2790>"
      ]
     },
     "execution_count": 6,
     "metadata": {},
     "output_type": "execute_result"
    },
    {
     "data": {
      "image/png": "[encoded data removed]",
      "text/plain": [
       "<Figure size 432x288 with 1 Axes>"
      ]
     },
     "metadata": {
      "needs_background": "light"
     },
     "output_type": "display_data"
    }
   ],
   "source": [
    "plt.grid()\n",
    "plt.scatter(df['x'],df['y'],color='red')"
   ]
  },
  {
   "cell_type": "code",
   "execution_count": 7,
   "id": "95995140-b719-496a-ac2b-320ea4efc2eb",
   "metadata": {},
   "outputs": [],
   "source": [
    "from sklearn.linear_model import LinearRegression"
   ]
  },
  {
   "cell_type": "code",
   "execution_count": null,
   "id": "c3a81101-ac3a-4e65-a71d-c8884bedce53",
   "metadata": {},
   "outputs": [],
   "source": []
  },
  {
   "cell_type": "code",
   "execution_count": null,
   "id": "124e0e9e-def4-4939-9517-808c395c652e",
   "metadata": {},
   "outputs": [],
   "source": []
  },
  {
   "cell_type": "code",
   "execution_count": 8,
   "id": "a0fb9fdc-38e1-481a-8aa7-ecb6e94b4c14",
   "metadata": {},
   "outputs": [],
   "source": [
    "model = LinearRegression()"
   ]
  },
  {
   "cell_type": "code",
   "execution_count": 9,
   "id": "98f7d86e-2376-48be-8640-15940510d688",
   "metadata": {},
   "outputs": [
    {
     "data": {
      "text/plain": [
       "LinearRegression()"
      ]
     },
     "execution_count": 9,
     "metadata": {},
     "output_type": "execute_result"
    }
   ],
   "source": [
    "model.fit(x.reshape(-1,1),y)"
   ]
  },
  {
   "cell_type": "code",
   "execution_count": 10,
   "id": "d0c79bea-b448-47b9-a640-0c35e31c2d0c",
   "metadata": {},
   "outputs": [
    {
     "data": {
      "text/plain": [
       "array([1.13953488])"
      ]
     },
     "execution_count": 10,
     "metadata": {},
     "output_type": "execute_result"
    }
   ],
   "source": [
    "model.coef_"
   ]
  },
  {
   "cell_type": "code",
   "execution_count": 11,
   "id": "ea2c5774-b3f2-43df-9bc8-955ad6b553d2",
   "metadata": {},
   "outputs": [
    {
     "data": {
      "text/plain": [
       "array([1.13953488])"
      ]
     },
     "execution_count": 11,
     "metadata": {},
     "output_type": "execute_result"
    }
   ],
   "source": [
    "model.coef_"
   ]
  },
  {
   "cell_type": "code",
   "execution_count": 12,
   "id": "f740a629-4906-4e6c-9fbb-5b8705021c54",
   "metadata": {},
   "outputs": [
    {
     "data": {
      "text/plain": [
       "<matplotlib.collections.PathCollection at 0x7f9d962b23a0>"
      ]
     },
     "execution_count": 12,
     "metadata": {},
     "output_type": "execute_result"
    },
    {
     "data": {
      "image/png": "[encoded data removed]",
      "text/plain": [
       "<Figure size 432x288 with 1 Axes>"
      ]
     },
     "metadata": {
      "needs_background": "light"
     },
     "output_type": "display_data"
    }
   ],
   "source": [
    "plt.scatter(df['x'],df['y'],color='red')"
   ]
  },
  {
   "cell_type": "code",
   "execution_count": 13,
   "id": "f6dc8b46-7d23-4177-a4fa-24883961222f",
   "metadata": {},
   "outputs": [],
   "source": [
    "X = np.linspace(min(x),max(x),100)"
   ]
  },
  {
   "cell_type": "code",
   "execution_count": 14,
   "id": "f35f64be-5719-41ef-a172-5abda23cee91",
   "metadata": {},
   "outputs": [
    {
     "data": {
      "text/plain": [
       "Text(0.5, 1.0, 'R2=0.9727736812251844')"
      ]
     },
     "execution_count": 14,
     "metadata": {},
     "output_type": "execute_result"
    },
    {
     "data": {
      "image/png": "[encoded data removed]",
      "text/plain": [
       "<Figure size 432x288 with 1 Axes>"
      ]
     },
     "metadata": {
      "needs_background": "light"
     },
     "output_type": "display_data"
    }
   ],
   "source": [
    "plt.grid()\n",
    "plt.scatter(df['x'],df['y'],color='red')\n",
    "plt.plot(X,(157/43)+(49/43)*X)\n",
    "plt.title(f\"R2={model.score(x.reshape(-1,1),y)}\")"
   ]
  },
  {
   "cell_type": "code",
   "execution_count": 15,
   "id": "e69a8010-2b06-4d95-b6fb-fb43b35d8f56",
   "metadata": {},
   "outputs": [
    {
     "data": {
      "text/plain": [
       "1.1395348837209303"
      ]
     },
     "execution_count": 15,
     "metadata": {},
     "output_type": "execute_result"
    }
   ],
   "source": [
    "(49/43)"
   ]
  },
  {
   "cell_type": "code",
   "execution_count": 16,
   "id": "53209886-bbc5-490d-8529-9cff0d3439d1",
   "metadata": {},
   "outputs": [
    {
     "data": {
      "text/plain": [
       "0.9727736812251844"
      ]
     },
     "execution_count": 16,
     "metadata": {},
     "output_type": "execute_result"
    }
   ],
   "source": [
    "model.score(x.reshape(-1,1),y)"
   ]
  },
  {
   "cell_type": "markdown",
   "id": "4bcaeb31-da62-48e3-b294-41d5b49ac27c",
   "metadata": {},
   "source": [
    "## Funcion Log"
   ]
  },
  {
   "cell_type": "code",
   "execution_count": 17,
   "id": "7576acbb-0cbc-4d5a-9f1c-60bc690789d5",
   "metadata": {},
   "outputs": [
    {
     "data": {
      "text/plain": [
       "<matplotlib.collections.PathCollection at 0x7f9d963c0790>"
      ]
     },
     "execution_count": 17,
     "metadata": {},
     "output_type": "execute_result"
    },
    {
     "data": {
      "image/png": "[encoded data removed]",
      "text/plain": [
       "<Figure size 432x288 with 1 Axes>"
      ]
     },
     "metadata": {
      "needs_background": "light"
     },
     "output_type": "display_data"
    }
   ],
   "source": [
    "plt.grid()\n",
    "plt.scatter(df['x'],df['y'],color='red')"
   ]
  },
  {
   "cell_type": "code",
   "execution_count": 18,
   "id": "88e79f78-5dd6-4a40-959d-9f4812e4a324",
   "metadata": {},
   "outputs": [],
   "source": [
    "model = LinearRegression"
   ]
  },
  {
   "cell_type": "code",
   "execution_count": 19,
   "id": "ed3a2553-8549-4449-b7cb-ccffb7994d48",
   "metadata": {},
   "outputs": [],
   "source": [
    "x = np.log(df['x']).values\n",
    "y = df['y']"
   ]
  },
  {
   "cell_type": "code",
   "execution_count": 20,
   "id": "0d89b391-dd8a-4415-96eb-761d3a0ba8f6",
   "metadata": {},
   "outputs": [
    {
     "data": {
      "text/plain": [
       "array([2.30258509, 2.48490665, 2.07944154, 2.83321334, 2.30258509,\n",
       "       2.7080502 , 2.30258509])"
      ]
     },
     "execution_count": 20,
     "metadata": {},
     "output_type": "execute_result"
    }
   ],
   "source": [
    "np.log(df['x']).values"
   ]
  },
  {
   "cell_type": "code",
   "execution_count": null,
   "id": "47b02898-5d78-4471-a6e8-249ca072a061",
   "metadata": {},
   "outputs": [],
   "source": []
  }
 ],
 "metadata": {
  "kernelspec": {
   "display_name": "Python 3 (ipykernel)",
   "language": "python",
   "name": "python3"
  },
  "language_info": {
   "codemirror_mode": {
    "name": "ipython",
    "version": 3
   },
   "file_extension": ".py",
   "mimetype": "text/x-python",
   "name": "python",
   "nbconvert_exporter": "python",
   "pygments_lexer": "ipython3",
   "version": "3.8.8"
  }
 },
 "nbformat": 4,
 "nbformat_minor": 5
}
