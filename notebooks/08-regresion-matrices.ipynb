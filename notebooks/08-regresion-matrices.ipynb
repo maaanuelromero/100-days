{
 "cells": [
  {
   "cell_type": "markdown",
   "id": "de26859f-201c-4152-965a-30bb74588a2a",
   "metadata": {},
   "source": [
    "# Regresion matricial"
   ]
  },
  {
   "cell_type": "code",
   "execution_count": 1,
   "id": "9176c230-d85c-4e5d-a1ac-0bb1e14193dd",
   "metadata": {},
   "outputs": [],
   "source": [
    "import pandas as pd\n",
    "import numpy as np"
   ]
  },
  {
   "cell_type": "code",
   "execution_count": 2,
   "id": "8938d15f-901c-48aa-9fb9-640fbc718656",
   "metadata": {},
   "outputs": [],
   "source": [
    "x_1 = [3.5,6.7,1.5,0.3,4.6,2]\n",
    "x_2 = [5,4.2,8.5,1.4,3.6,1.3]\n",
    "y = [25,30,11,22,27,19]"
   ]
  },
  {
   "cell_type": "code",
   "execution_count": 4,
   "id": "89a38fe5-98fc-4836-8a63-caf977235473",
   "metadata": {},
   "outputs": [],
   "source": [
    "df = pd.DataFrame({'x1':x_1,'x2':x_2,'y':y})"
   ]
  },
  {
   "cell_type": "code",
   "execution_count": 5,
   "id": "4e449ed1-3e6c-431d-85c1-b1f495b5cd4a",
   "metadata": {},
   "outputs": [
    {
     "data": {
      "text/html": [
       "<div>\n",
       "<style scoped>\n",
       "    .dataframe tbody tr th:only-of-type {\n",
       "        vertical-align: middle;\n",
       "    }\n",
       "\n",
       "    .dataframe tbody tr th {\n",
       "        vertical-align: top;\n",
       "    }\n",
       "\n",
       "    .dataframe thead th {\n",
       "        text-align: right;\n",
       "    }\n",
       "</style>\n",
       "<table border=\"1\" class=\"dataframe\">\n",
       "  <thead>\n",
       "    <tr style=\"text-align: right;\">\n",
       "      <th></th>\n",
       "      <th>x1</th>\n",
       "      <th>x2</th>\n",
       "      <th>y</th>\n",
       "    </tr>\n",
       "  </thead>\n",
       "  <tbody>\n",
       "    <tr>\n",
       "      <th>0</th>\n",
       "      <td>3.5</td>\n",
       "      <td>5.0</td>\n",
       "      <td>25</td>\n",
       "    </tr>\n",
       "    <tr>\n",
       "      <th>1</th>\n",
       "      <td>6.7</td>\n",
       "      <td>4.2</td>\n",
       "      <td>30</td>\n",
       "    </tr>\n",
       "    <tr>\n",
       "      <th>2</th>\n",
       "      <td>1.5</td>\n",
       "      <td>8.5</td>\n",
       "      <td>11</td>\n",
       "    </tr>\n",
       "    <tr>\n",
       "      <th>3</th>\n",
       "      <td>0.3</td>\n",
       "      <td>1.4</td>\n",
       "      <td>22</td>\n",
       "    </tr>\n",
       "    <tr>\n",
       "      <th>4</th>\n",
       "      <td>4.6</td>\n",
       "      <td>3.6</td>\n",
       "      <td>27</td>\n",
       "    </tr>\n",
       "    <tr>\n",
       "      <th>5</th>\n",
       "      <td>2.0</td>\n",
       "      <td>1.3</td>\n",
       "      <td>19</td>\n",
       "    </tr>\n",
       "  </tbody>\n",
       "</table>\n",
       "</div>"
      ],
      "text/plain": [
       "    x1   x2   y\n",
       "0  3.5  5.0  25\n",
       "1  6.7  4.2  30\n",
       "2  1.5  8.5  11\n",
       "3  0.3  1.4  22\n",
       "4  4.6  3.6  27\n",
       "5  2.0  1.3  19"
      ]
     },
     "execution_count": 5,
     "metadata": {},
     "output_type": "execute_result"
    }
   ],
   "source": [
    "df"
   ]
  },
  {
   "cell_type": "code",
   "execution_count": 6,
   "id": "dcaf5229-b92f-4f26-9b5e-5b6041897e1a",
   "metadata": {},
   "outputs": [],
   "source": [
    "X = pd.DataFrame()\n",
    "\n",
    "X['1'] = np.ones(df.shape[0])\n",
    "X['x1'] = df['x1']\n",
    "X['x2'] = df['x2']"
   ]
  },
  {
   "cell_type": "code",
   "execution_count": 9,
   "id": "eb3ac589-f5d7-4316-bb47-66c64a4f11c5",
   "metadata": {},
   "outputs": [],
   "source": [
    "X = X.values"
   ]
  },
  {
   "cell_type": "code",
   "execution_count": 10,
   "id": "cdc417dd-8e11-483e-bbaf-91836dce721d",
   "metadata": {},
   "outputs": [],
   "source": [
    "X_tran = X.T"
   ]
  },
  {
   "cell_type": "code",
   "execution_count": 11,
   "id": "aba823b4-be5b-4d52-89a1-1fcfb4733f28",
   "metadata": {},
   "outputs": [],
   "source": [
    "A = np.matmul(X_tran,X)"
   ]
  },
  {
   "cell_type": "code",
   "execution_count": 12,
   "id": "3a0a22c0-99d1-431a-9fff-c1e66bcc96df",
   "metadata": {},
   "outputs": [],
   "source": [
    "A_inv = np.linalg.inv(A)"
   ]
  },
  {
   "cell_type": "code",
   "execution_count": 13,
   "id": "b56826ac-b550-4fb4-b020-8e34b00781c1",
   "metadata": {},
   "outputs": [],
   "source": [
    "p = np.matmul(A_inv,X_tran)"
   ]
  },
  {
   "cell_type": "code",
   "execution_count": 14,
   "id": "a404cf4b-481b-4fd6-8348-f48f4d048fc7",
   "metadata": {},
   "outputs": [],
   "source": [
    "ans = np.matmul(p,y)"
   ]
  },
  {
   "cell_type": "code",
   "execution_count": 15,
   "id": "30a02236-af15-48b7-b430-e963b07ad620",
   "metadata": {},
   "outputs": [],
   "source": [
    "f = lambda x1,x2: ans[0] + ans[1]*x1+ans[2]*x2"
   ]
  },
  {
   "cell_type": "code",
   "execution_count": 16,
   "id": "d84e85bc-9501-42b6-9cc0-508b745fabf6",
   "metadata": {},
   "outputs": [],
   "source": [
    "yp = f(df['x1'],df['x2'])"
   ]
  },
  {
   "cell_type": "code",
   "execution_count": 17,
   "id": "517d24a2-0f50-4d6f-ad84-bd049fadc4ec",
   "metadata": {},
   "outputs": [
    {
     "data": {
      "text/plain": [
       "39.11975495490461"
      ]
     },
     "execution_count": 17,
     "metadata": {},
     "output_type": "execute_result"
    }
   ],
   "source": [
    "sse = ((y - yp) ** 2).sum()\n",
    "sse"
   ]
  },
  {
   "cell_type": "code",
   "execution_count": 18,
   "id": "b7fbcd06-4fd1-41da-bf7d-aa6863d8f55e",
   "metadata": {},
   "outputs": [],
   "source": [
    "y_bar = df['y'].mean()"
   ]
  },
  {
   "cell_type": "code",
   "execution_count": 19,
   "id": "e6491ba3-e245-4050-b906-eb148dc367f6",
   "metadata": {},
   "outputs": [
    {
     "data": {
      "text/plain": [
       "188.21357837842854"
      ]
     },
     "execution_count": 19,
     "metadata": {},
     "output_type": "execute_result"
    }
   ],
   "source": [
    "ssr = ((yp - y_bar) ** 2).sum()\n",
    "ssr"
   ]
  },
  {
   "cell_type": "code",
   "execution_count": 21,
   "id": "6386f57a-af3b-461a-9050-1bad8a9ac397",
   "metadata": {},
   "outputs": [
    {
     "data": {
      "text/plain": [
       "227.33333333333337"
      ]
     },
     "execution_count": 21,
     "metadata": {},
     "output_type": "execute_result"
    }
   ],
   "source": [
    "sst = ((df['y'] - y_bar) ** 2).sum()\n",
    "sst"
   ]
  },
  {
   "cell_type": "code",
   "execution_count": 22,
   "id": "5c41c26d-f094-4e74-803c-292d719c6104",
   "metadata": {},
   "outputs": [],
   "source": [
    "n = df.shape[0]\n",
    "k = df.shape[1]"
   ]
  },
  {
   "cell_type": "code",
   "execution_count": 23,
   "id": "f2ac3f93-b049-4d1b-9065-cb533586a20d",
   "metadata": {},
   "outputs": [
    {
     "data": {
      "text/plain": [
       "4.42265502582468"
      ]
     },
     "execution_count": 23,
     "metadata": {},
     "output_type": "execute_result"
    }
   ],
   "source": [
    "np.sqrt(sse/((n-(k+1))))"
   ]
  },
  {
   "cell_type": "code",
   "execution_count": 25,
   "id": "0fd89b8a-5570-4e7b-bd07-d8bb4b03f2cf",
   "metadata": {},
   "outputs": [
    {
     "data": {
      "text/plain": [
       "4.811215678508012"
      ]
     },
     "execution_count": 25,
     "metadata": {},
     "output_type": "execute_result"
    }
   ],
   "source": [
    "fisher = (ssr/2)/ (sse/2)\n",
    "fisher"
   ]
  },
  {
   "cell_type": "code",
   "execution_count": null,
   "id": "aeecac97-9804-4156-b70f-3eb91239ad13",
   "metadata": {},
   "outputs": [],
   "source": []
  }
 ],
 "metadata": {
  "kernelspec": {
   "display_name": "Python 3 (ipykernel)",
   "language": "python",
   "name": "python3"
  },
  "language_info": {
   "codemirror_mode": {
    "name": "ipython",
    "version": 3
   },
   "file_extension": ".py",
   "mimetype": "text/x-python",
   "name": "python",
   "nbconvert_exporter": "python",
   "pygments_lexer": "ipython3",
   "version": "3.8.8"
  }
 },
 "nbformat": 4,
 "nbformat_minor": 5
}
