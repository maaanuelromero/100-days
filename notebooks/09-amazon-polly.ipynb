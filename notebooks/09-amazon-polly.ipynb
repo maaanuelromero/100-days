{
 "cells": [
  {
   "cell_type": "markdown",
   "id": "938e0936-74f6-45a8-9d0f-60dd2ebe66ed",
   "metadata": {},
   "source": [
    "# Amazon Polly"
   ]
  },
  {
   "cell_type": "markdown",
   "id": "8784ae84-7723-44b8-a108-36ff27cc0dbb",
   "metadata": {},
   "source": [
    "Creare un programita que pase texto a voz usando amazon polly, y que lo mande a una carpeta en mi computadora"
   ]
  },
  {
   "cell_type": "code",
   "execution_count": 1,
   "id": "0550bb6a-026a-4c7a-b94c-d736c8d71050",
   "metadata": {},
   "outputs": [],
   "source": [
    "import boto3"
   ]
  },
  {
   "cell_type": "code",
   "execution_count": 5,
   "id": "2f7eb8c3-78fb-43c5-ae05-e8984c421273",
   "metadata": {},
   "outputs": [],
   "source": [
    "client = boto3.client('polly')"
   ]
  },
  {
   "cell_type": "code",
   "execution_count": 15,
   "id": "f73d3d1f-0bcf-4907-aa99-900b3219f558",
   "metadata": {},
   "outputs": [
    {
     "name": "stdin",
     "output_type": "stream",
     "text": [
      "Ingrese su texto Joven, no me se ni el nombre de los profesores no mame\n"
     ]
    }
   ],
   "source": [
    "texto = input(\"Ingrese su texto\")"
   ]
  },
  {
   "cell_type": "code",
   "execution_count": 16,
   "id": "c1435d19-9100-4916-8f36-b762786314f9",
   "metadata": {},
   "outputs": [],
   "source": [
    "response = client.synthesize_speech(Engine='neural',VoiceId='Pedro',OutputFormat='mp3',Text=texto)"
   ]
  },
  {
   "cell_type": "code",
   "execution_count": 17,
   "id": "e77d2be6-e71b-4c62-b63b-9203f3df1181",
   "metadata": {},
   "outputs": [],
   "source": [
    "file = open('speech.mp3', 'wb')\n",
    "file.write(response['AudioStream'].read())\n",
    "file.close()"
   ]
  },
  {
   "cell_type": "code",
   "execution_count": null,
   "id": "744d4143-c3a7-4025-871a-3ec704d0af86",
   "metadata": {},
   "outputs": [],
   "source": []
  }
 ],
 "metadata": {
  "kernelspec": {
   "display_name": "Python 3 (ipykernel)",
   "language": "python",
   "name": "python3"
  },
  "language_info": {
   "codemirror_mode": {
    "name": "ipython",
    "version": 3
   },
   "file_extension": ".py",
   "mimetype": "text/x-python",
   "name": "python",
   "nbconvert_exporter": "python",
   "pygments_lexer": "ipython3",
   "version": "3.8.8"
  }
 },
 "nbformat": 4,
 "nbformat_minor": 5
}
